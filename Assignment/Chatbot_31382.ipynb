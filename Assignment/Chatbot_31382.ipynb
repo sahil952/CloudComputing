{
 "cells": [
  {
   "cell_type": "markdown",
   "id": "c63e4139",
   "metadata": {},
   "source": [
    "### Roll No: 31382 sahil tamboli\n",
    "### Chatbot - SIM card service provider"
   ]
  },
  {
   "cell_type": "code",
   "execution_count": 1,
   "id": "d8896478",
   "metadata": {},
   "outputs": [
    {
     "name": "stdout",
     "output_type": "stream",
     "text": [
      "BOT: What do you want me to call you?\n",
      "sahil\n"
     ]
    }
   ],
   "source": [
    "import random\n",
    "print(\"BOT: What do you want me to call you?\")\n",
    "user_name = input()"
   ]
  },
  {
   "cell_type": "code",
   "execution_count": 2,
   "id": "6adad0b9",
   "metadata": {},
   "outputs": [],
   "source": [
    "bot_name = \"Wizzard\"\n",
    "name = \"Sahil\"\n",
    "phoneNo = \"8793645233\"\n",
    "address = \"PICT, Pune\"\n",
    "accountNo = \"12345\"\n",
    "balance = 110.78\n",
    "\n"
   ]
  },
  {
   "cell_type": "code",
   "execution_count": 3,
   "id": "cbc6e631",
   "metadata": {},
   "outputs": [],
   "source": [
    "bot_template = bot_name + \" : {0}\"\n",
    "user_template = user_name + \" : {0}\""
   ]
  },
  {
   "cell_type": "code",
   "execution_count": 4,
   "id": "473b931d",
   "metadata": {},
   "outputs": [],
   "source": [
    "responses = { \n",
    "    \"What is my name registered?\": [ \n",
    "    \"Your name is {0}.\".format(name), \n",
    "    \"You are {0}.\".format(name), \n",
    "    \"{0} is your name.\".format(name) ],\n",
    "    \n",
    "    \"What is my phone no?\": [ \n",
    "    \"Your phone no is {0}\".format(phoneNo), \n",
    "    \"{0}\".format(phoneNo), \n",
    "    \"Your mobile no is {0}\".format(phoneNo), ],\n",
    "    \n",
    "    \"What is my registered address?\": [ \n",
    "    \"{0}\".format(address), \n",
    "    \"Your registered address is {0}\".format(address), \n",
    "    \"You live at {0}\".format(address), ],\n",
    "\n",
    "    \"What is my account no?\": [ \n",
    "    \"Your account no is {0}.\".format(accountNo), \n",
    "    \"{0}\".format(accountNo), \n",
    "    \"Account no: {0}\".format(accountNo) ],\n",
    "\n",
    "    \"What is my account balance?\": [ \n",
    "    \"Your account balance is Rs. {0}.\".format(balance), \n",
    "    \"Balance: Rs. {0}\".format(balance), \n",
    "    \"Rs. {0}\".format(balance) ],\n",
    "    \n",
    "    \"\": [ \n",
    "    \"Hey! I didn't understand you\",\n",
    "    \"okay!\"\n",
    "    \"What do you mean by saying nothing?\", ],\n",
    "\n",
    "    \"default\": [\n",
    "    \"this is a default message\"]\n",
    "}"
   ]
  },
  {
   "cell_type": "code",
   "execution_count": 5,
   "id": "89a8c869",
   "metadata": {},
   "outputs": [],
   "source": [
    "def respond(message):\n",
    "    \n",
    "    if message in responses: \n",
    "        bot_message = random.choice(responses[message])\n",
    "    \n",
    "    else: \n",
    "        bot_message = random.choice(responses[\"default\"])\n",
    "    \n",
    "    return bot_message"
   ]
  },
  {
   "cell_type": "code",
   "execution_count": 6,
   "id": "f385c6fc",
   "metadata": {},
   "outputs": [],
   "source": [
    "def related(x_text): \n",
    "    if \"name\" in x_text: \n",
    "        y_text = \"What is my name registered?\"\n",
    "    \n",
    "    elif \"phone\" in x_text: \n",
    "        y_text = \"What is my phone no?\"\n",
    "    \n",
    "    elif \"address\" in x_text: \n",
    "        y_text = \"What is my registered address?\"\n",
    "    \n",
    "    elif \"account no\" in x_text: \n",
    "        y_text = \"What is my account no?\"\n",
    "    \n",
    "    elif \"balance\" in x_text: \n",
    "        y_text = \"What is my account balance?\"\n",
    "    \n",
    "    else: \n",
    "        y_text = \"\"\n",
    "    \n",
    "    return y_text"
   ]
  },
  {
   "cell_type": "code",
   "execution_count": 7,
   "id": "9190f0a5",
   "metadata": {},
   "outputs": [],
   "source": [
    "def send_message(message): \n",
    "    print(user_template.format(message)) \n",
    "    response = respond(message) \n",
    "    print(bot_template.format(response))"
   ]
  },
  {
   "cell_type": "code",
   "execution_count": null,
   "id": "4bdda93f",
   "metadata": {
    "scrolled": false
   },
   "outputs": [
    {
     "name": "stdout",
     "output_type": "stream",
     "text": [
      "Ask me a question\n",
      "What is my account balance?\n",
      "sahil : What is my account balance?\n",
      "Wizzard : Your account balance is Rs. 110.78.\n",
      "What is my phone no?\n",
      "sahil : What is my phone no?\n",
      "Wizzard : Your mobile no is 8793645233\n",
      "What is my name registered?\n",
      "sahil : What is my name registered?\n",
      "Wizzard : You are Sahil.\n",
      "What is my account no?\n",
      "sahil : What is my account no?\n",
      "Wizzard : 12345\n"
     ]
    }
   ],
   "source": [
    "print(\"Ask me a question\")\n",
    "while 1: \n",
    "    my_input = input() \n",
    "    my_input = my_input.lower() \n",
    "    related_text = related(my_input) \n",
    "    send_message(related_text)\n",
    "    \n",
    "    if (my_input == \"exit\" or my_input == \"stop\"): \n",
    "        break"
   ]
  },
  {
   "cell_type": "markdown",
   "id": "6defeaff",
   "metadata": {},
   "source": [
    "##### Referenced article link: https://towardsdatascience.com/building-a-chatbot-in-python-the-beginners-guide-2743ad2b4851"
   ]
  }
 ],
 "metadata": {
  "kernelspec": {
   "display_name": "Python 3 (ipykernel)",
   "language": "python",
   "name": "python3"
  },
  "language_info": {
   "codemirror_mode": {
    "name": "ipython",
    "version": 3
   },
   "file_extension": ".py",
   "mimetype": "text/x-python",
   "name": "python",
   "nbconvert_exporter": "python",
   "pygments_lexer": "ipython3",
   "version": "3.10.4"
  }
 },
 "nbformat": 4,
 "nbformat_minor": 5
}
